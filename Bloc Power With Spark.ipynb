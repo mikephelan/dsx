{
    "metadata": {
        "language_info": {
            "file_extension": ".py", 
            "nbconvert_exporter": "python", 
            "mimetype": "text/x-python", 
            "version": "2.7.11", 
            "pygments_lexer": "ipython2", 
            "codemirror_mode": {
                "name": "ipython", 
                "version": 2
            }, 
            "name": "python"
        }, 
        "kernelspec": {
            "name": "python2", 
            "language": "python", 
            "display_name": "Python 2 with Spark 1.6"
        }
    }, 
    "nbformat": 4, 
    "nbformat_minor": 0, 
    "cells": [
        {
            "source": "\n# BlocPower data: Buildings in New York City\n\nThe four main sections of this notebook are:\n1. [Setup](#Setup)\n2. [Model energy usage in kWh of buildings](#2.-Model-energy-usage-in-kWh-of-buildings)\n3. [Detect buildings that consume energy inefficiently](#3.-Detect-buildings-that-consume-energy-inefficiently)\n4. [Export data and models to RStudio](#4.-Export-data-and-models-to-RStudio)\n\nA lot of our findings were based on [this article](http://www.informs-sim.org/wsc11papers/082.pdf) by a group of researchers from \n+ IBM T.J. Watson Research Center, \n+ CUNY Institute for Urban Systems and \n+ McMaster University. \n", 
            "metadata": {}, 
            "cell_type": "markdown"
        }, 
        {
            "source": "\n# @hidden_cell\ncredentials = {\n  'auth_url':'https://identity.open.softlayer.com',\n  'project':'object_storage_1f9298b8_12a7_4b6a_ad72_b27340848b74',\n  'project_id':'ebaf6c066f4744f483f4773400632f81',\n  'region':'dallas',\n  'user_id':'14ebfa8ac02140369d219c47e19daaa5',\n  'domain_id':'00ed6673310a4613a0d0064dbe162831',\n  'domain_name':'1248965',\n  'username':'member_bdf25cb0e8bfa9bbac3d9c16ddae9bb933d66ede',\n  'password':\"\"\"y[p[Il{XS-,U5Ip9\"\"\",\n  'container':'SparkSummitDemo',\n  'tenantId':'undefined',\n  'filename':'BlocPower_T.csv'\n}\n# 1. Setup\n## Load data \n+ BlocPower data\n+ Public heating and cooling data in New York\n\n\nFirst click on the 1001 icon in the top right, to open the data panel:\n<div><img src=\"https://raw.githubusercontent.com/IBMDataScience/SparkSummitDemo/master/Screenshots/dataicon.png\" width=100 align=\"left\"\n/></div>", 
            "metadata": {}, 
            "cell_type": "markdown"
        }, 
        {
            "source": "\n# @hidden_cell\ncredentials = {\n  'auth_url':'https://identity.open.softlayer.com',\n  'project':'object_storage_1f9298b8_12a7_4b6a_ad72_b27340848b74',\n  'project_id':'ebaf6c066f4744f483f4773400632f81',\n  'region':'dallas',\n  'user_id':'14ebfa8ac02140369d219c47e19daaa5',\n  'domain_id':'00ed6673310a4613a0d0064dbe162831',\n  'domain_name':'1248965',\n  'username':'member_bdf25cb0e8bfa9bbac3d9c16ddae9bb933d66ede',\n  'password':\"\"\"y[p[Il{XS-,U5Ip9\"\"\",\n  'container':'SparkSummitDemo',\n  'tenantId':'undefined',\n  'filename':'BlocPower_T.csv'\n}\n### Click in empty cell below and insert BlocPower_T.csv as Spark SQL DataFrame\n\n<img src=\"https://raw.githubusercontent.com/IBMDataScience/SparkSummitDemo/master/Screenshots/loadBlocPower_T.gif\"  />\n\n---", 
            "metadata": {}, 
            "cell_type": "markdown"
        }, 
        {
            "execution_count": 8, 
            "source": "# The code was removed by DSX for sharing.", 
            "cell_type": "code", 
            "metadata": {
                "collapsed": false
            }, 
            "outputs": [
                {
                    "output_type": "execute_result", 
                    "execution_count": 8, 
                    "metadata": {}, 
                    "data": {
                        "text/plain": "[Row(UTSUM_Electricity_Usage=u'117,870 kWh', INFO_Year of Construction=u'1955', INFO_Number of Stories=4, INFO_Total Square Feet=u'14,600', PLEI_1_Quantity=1, PLEI_3_Quantity=u'2'),\n Row(UTSUM_Electricity_Usage=u'16,207 kWh', INFO_Year of Construction=u'1940', INFO_Number of Stories=1, INFO_Total Square Feet=u'600', PLEI_1_Quantity=1, PLEI_3_Quantity=u''),\n Row(UTSUM_Electricity_Usage=u'15,564 kWh', INFO_Year of Construction=u'1920', INFO_Number of Stories=2, INFO_Total Square Feet=u'6,000', PLEI_1_Quantity=2, PLEI_3_Quantity=u'1'),\n Row(UTSUM_Electricity_Usage=u'25,851 kWh', INFO_Year of Construction=u'1965', INFO_Number of Stories=1, INFO_Total Square Feet=u'5,000', PLEI_1_Quantity=6, PLEI_3_Quantity=u'1'),\n Row(UTSUM_Electricity_Usage=u'32,343 kWh', INFO_Year of Construction=u'1930', INFO_Number of Stories=3, INFO_Total Square Feet=u'4,196', PLEI_1_Quantity=1, PLEI_3_Quantity=u'1')]"
                    }
                }
            ]
        }, 
        {
            "source": "--- \n\n### ^^ Make sure the dataset at the end is called df_data_1\n\n<div> <img src=\"https://raw.githubusercontent.com/IBMDataScience/SparkSummitDemo/master/Screenshots/df_data_1.png\" width=600 align=\"left\" /></div>", 
            "metadata": {}, 
            "cell_type": "markdown"
        }, 
        {
            "source": "\ndf_data_2 = sqlContext.read.format('com.databricks.spark.csv')\\\n  .options(header='true', inferschema='true')\\\n  .load(\"swift://SparkSummitDemo.\" + name + \"/HDD-Features.csv\")\ndf_data_2.take(5)\n---\n\n\n\n<img src=\"https://raw.githubusercontent.com/IBMDataScience/SparkSummitDemo/master/Screenshots/insertHDD_Features.gif\" />\n\n---", 
            "metadata": {}, 
            "cell_type": "markdown"
        }, 
        {
            "execution_count": 9, 
            "source": "\ndf_data_2 = sqlContext.read.format('com.databricks.spark.csv')\\\n  .options(header='true', inferschema='true')\\\n  .load(\"swift://SparkSummitDemo.\" + name + \"/CDD-HDD-Features.csv\")\ndf_data_2.take(5)\n", 
            "cell_type": "code", 
            "metadata": {
                "collapsed": false
            }, 
            "outputs": [
                {
                    "output_type": "execute_result", 
                    "execution_count": 9, 
                    "metadata": {}, 
                    "data": {
                        "text/plain": "[Row(Property Name=u'ChurchofStCeciliaReport', plug_load_consumption=11.65140596, ac_consumption=0.983531348, domestic_gas=0.096226455, heating_gas=0.366193236),\n Row(Property Name=u'69thLaneStudio', plug_load_consumption=32.76988438, ac_consumption=5.008371873, domestic_gas=0.322599638, heating_gas=0.57959223),\n Row(Property Name=u'UnitarianChurchofStatenIsland', plug_load_consumption=2.345049272, ac_consumption=0.296133819, domestic_gas=0.032705972, heating_gas=0.036460695),\n Row(Property Name=u'SSolowayandSonsPIPPrinting', plug_load_consumption=4.618817159, ac_consumption=0.765188561, domestic_gas=0.02750427, heating_gas=0.23466382),\n Row(Property Name=u'SunnysideJewishCenterReport', plug_load_consumption=9.323896186, ac_consumption=1.23432624, domestic_gas=0.322599638, heating_gas=0.57959223)]"
                    }
                }
            ]
        }, 
        {
            "source": "--- \n\n### ^^ Make sure the dataset at the end is called df_data_2\n\n<div> <img src=\"https://raw.githubusercontent.com/IBMDataScience/SparkSummitDemo/master/Screenshots/df_data_2.png\" width=600 align=\"left\" /></div>", 
            "metadata": {}, 
            "cell_type": "markdown"
        }, 
        {
            "source": "---\n\n\n<img src=\"https://raw.githubusercontent.com/IBMDataScience/SparkSummitDemo/master/Screenshots/insertCDDHDD.gif\" />\n\n\n---", 
            "metadata": {}, 
            "cell_type": "markdown"
        }, 
        {
            "execution_count": 10, 
            "source": "\ndf_data_3 = sqlContext.read.format('com.databricks.spark.csv')\\\n  .options(header='true', inferschema='true')\\\n  .load(\"swift://SparkSummitDemo.\" + name + \"/CDD-HDD-Features.csv\")\ndf_data_3.take(5)\n", 
            "cell_type": "code", 
            "metadata": {
                "collapsed": false
            }, 
            "outputs": [
                {
                    "output_type": "execute_result", 
                    "execution_count": 10, 
                    "metadata": {}, 
                    "data": {
                        "text/plain": "[Row(Property Name=u'ChurchofStCeciliaReport', plug_load_consumption=11.65140596, ac_consumption=0.983531348, domestic_gas=0.096226455, heating_gas=0.366193236),\n Row(Property Name=u'69thLaneStudio', plug_load_consumption=32.76988438, ac_consumption=5.008371873, domestic_gas=0.322599638, heating_gas=0.57959223),\n Row(Property Name=u'UnitarianChurchofStatenIsland', plug_load_consumption=2.345049272, ac_consumption=0.296133819, domestic_gas=0.032705972, heating_gas=0.036460695),\n Row(Property Name=u'SSolowayandSonsPIPPrinting', plug_load_consumption=4.618817159, ac_consumption=0.765188561, domestic_gas=0.02750427, heating_gas=0.23466382),\n Row(Property Name=u'SunnysideJewishCenterReport', plug_load_consumption=9.323896186, ac_consumption=1.23432624, domestic_gas=0.322599638, heating_gas=0.57959223)]"
                    }
                }
            ]
        }, 
        {
            "source": "--- \n\n### ^^ Make sure the dataset at the end is called df_data_3\n\n<div> <img src=\"https://raw.githubusercontent.com/IBMDataScience/SparkSummitDemo/master/Screenshots/df_data_3.png\" width=600 align=\"left\" /></div>", 
            "metadata": {}, 
            "cell_type": "markdown"
        }, 
        {
            "source": "#### Now we can rename the data frames to be more meaningful:", 
            "metadata": {}, 
            "cell_type": "markdown"
        }, 
        {
            "execution_count": 11, 
            "source": "df2 = df_data_1   #BlocPower_T.csv\ndfHDD = df_data_2 #HDD-Features.csv\ndfCH = df_data_3  #CDD-HDD-Features.csv", 
            "cell_type": "code", 
            "metadata": {
                "collapsed": false
            }, 
            "outputs": []
        }, 
        {
            "source": "## Import Spark and Python Libraries", 
            "metadata": {}, 
            "cell_type": "markdown"
        }, 
        {
            "execution_count": 21, 
            "source": "import numpy as np\nimport pandas as pd\nfrom pyspark.sql.functions import udf\nfrom pyspark.sql.types import DoubleType", 
            "cell_type": "code", 
            "metadata": {
                "collapsed": true
            }, 
            "outputs": []
        }, 
        {
            "source": "# 2. Model energy usage in kWh of buildings", 
            "metadata": {}, 
            "cell_type": "markdown"
        }, 
        {
            "source": "## Inspect the first few rows of the BlocPower data\n+ UTSUM_Electricity_Usage .- annual energy usage of each building in measure in kWh\n+ INFO_Year of Construction .- year when building was constructed\n+ INFO_Number of Stories .- number of stories of each building\n+ INFO_Total Square Feet .- square feet of each building\n+ PLEI_1_Quantity .- number of plugged equipment (e.g., microwaves, computers, ...)\n+ PLEI_3_Quantity .- same as PLEI_1 \n## Data Preparation\n+ On the first column (electricity usage), we need to reformat the values to get an actual number (e.g., 117,870 kWh to 117870)\n+ On the 4th column (square feet), we need to get rid of the commas (e.g., 14,600 to 14600)\n+ Notice that there are missing values", 
            "metadata": {}, 
            "cell_type": "markdown"
        }, 
        {
            "execution_count": 22, 
            "source": "df2.show(5)", 
            "cell_type": "code", 
            "metadata": {
                "collapsed": false
            }, 
            "outputs": [
                {
                    "name": "stdout", 
                    "output_type": "stream", 
                    "text": "+-----------------------+-------------------------+----------------------+----------------------+---------------+---------------+\n|UTSUM_Electricity_Usage|INFO_Year of Construction|INFO_Number of Stories|INFO_Total Square Feet|PLEI_1_Quantity|PLEI_3_Quantity|\n+-----------------------+-------------------------+----------------------+----------------------+---------------+---------------+\n|            117,870 kWh|                     1955|                     4|                14,600|              1|              2|\n|             16,207 kWh|                     1940|                     1|                   600|              1|               |\n|             15,564 kWh|                     1920|                     2|                 6,000|              2|              1|\n|             25,851 kWh|                     1965|                     1|                 5,000|              6|              1|\n|             32,343 kWh|                     1930|                     3|                 4,196|              1|              1|\n+-----------------------+-------------------------+----------------------+----------------------+---------------+---------------+\nonly showing top 5 rows\n\n"
                }
            ]
        }, 
        {
            "source": "## Define Functions To Clean and Prepare Data", 
            "metadata": {}, 
            "cell_type": "markdown"
        }, 
        {
            "execution_count": 39, 
            "source": "# define cleaning functions\ndef energy(v): # reformat the values to get an actual number (e.g., 117,870 kWh to 117870)\n    v = v.encode('ascii','ignore').split(' ')[0].replace(',','')\n    return np.nan if(v=='') else float(v)\ndef age(v): # computes the age of a buildings, given the year of construction\n    v = v.encode('ascii','ignore')\n    return 2016.0-float(v) if(len(v)==4) else np.nan\ndef stories(v):\n    return float(v)\ndef sqFeet(v): # get rid of commas \n    v = v.encode('ascii','ignore').replace(',','')\n    return np.nan if(v=='') else float(v) \ndef plei(v): # in the PLEI columns, missing values can be interpeted as 0 plugged equipment\n    try:\n        vv = float(v)\n    except:\n        vv = 0.0\n    return vv \n# Define udf's to apply the defined function to the Spark dataframe\nudfEnergy = udf(energy, DoubleType())\nudfAge = udf(age, DoubleType())\nudfStories = udf(stories, DoubleType())\nudfSqFeet = udf(sqFeet, DoubleType())\nudfPlei = udf(plei, DoubleType())", 
            "cell_type": "code", 
            "metadata": {
                "collapsed": false
            }, 
            "outputs": []
        }, 
        {
            "source": "## Apply Data Preparation Functionalities to Dataframe", 
            "metadata": {}, 
            "cell_type": "markdown"
        }, 
        {
            "execution_count": 40, 
            "source": "dfN = df2.withColumn(\"UTSUM_Electricity_Usage\", udfEnergy(\"UTSUM_Electricity_Usage\")) \\\n         .withColumn(\"INFO_Year of Construction\", udfAge(\"INFO_Year of Construction\")) \\\n         .withColumn(\"INFO_Number of Stories\", udfStories(\"INFO_Number of Stories\")) \\\n         .withColumn(\"INFO_Total Square Feet\", udfSqFeet(\"INFO_Total Square Feet\")) \\\n         .withColumn(\"PLEI_1_Quantity\", udfPlei(\"PLEI_1_Quantity\")) \\\n         .withColumn(\"PLEI_3_Quantity\", udfPlei(\"PLEI_3_Quantity\")).cache()\ndfN = dfN.withColumnRenamed(\"UTSUM_Electricity_Usage\",\"energy\") \\\n           .withColumnRenamed(\"INFO_Year of Construction\",\"age\") \\\n           .withColumnRenamed(\"INFO_Number of Stories\",\"number_stories\") \\\n           .withColumnRenamed(\"INFO_Total Square Feet\",\"square_feet\") \\\n           .withColumnRenamed(\"PLEI_1_Quantity\",\"plei_1\") \\\n           .withColumnRenamed(\"PLEI_3_Quantity\",\"plei_3\")            ", 
            "cell_type": "code", 
            "metadata": {
                "collapsed": false
            }, 
            "outputs": []
        }, 
        {
            "source": "## Fill in the missing values with an average", 
            "metadata": {}, 
            "cell_type": "markdown"
        }, 
        {
            "execution_count": 41, 
            "source": "# compute avergae of non-missing energy and age\nenergy_mean = np.nanmean(np.asarray(dfN.select(\"energy\").rdd.map(lambda r: r[0]).collect()))\nage_mean = np.nanmean(np.asarray(dfN.select(\"age\").rdd.map(lambda r: r[0]).collect()))\n# fill missing values with the computed average\ndfN = dfN.na.fill({\"energy\": energy_mean, \"age\": age_mean})", 
            "cell_type": "code", 
            "metadata": {
                "collapsed": false
            }, 
            "outputs": []
        }, 
        {
            "execution_count": 42, 
            "source": "# define spark dataframe to be written to our objetc store\ndfOut = dfN.select('energy', 'age', 'number_stories','square_feet','plei_1','plei_3')", 
            "cell_type": "code", 
            "metadata": {
                "collapsed": false
            }, 
            "outputs": []
        }, 
        {
            "source": "## Form a feature matrix and scale the columns", 
            "metadata": {}, 
            "cell_type": "markdown"
        }, 
        {
            "execution_count": 43, 
            "source": "# use the .toPandas() function to map Spark dataframes to pandas dataframes\ndfNp = dfN.toPandas()\ndfHDDp = dfHDD.toPandas()\n# concatenate two pandas dataframes\nfeat = pd.concat([dfNp, dfHDDp], axis=1)\n# get the column names of the concatenated dataframe\ncols = feat.columns\n# scale data to prepare for regression model \nfrom sklearn import preprocessing\nscaler = preprocessing.MaxAbsScaler() \nfeat = scaler.fit_transform(feat)\n# define a new dataframe with the scaled data\ndfScaled = pd.DataFrame(feat,columns=cols)", 
            "cell_type": "code", 
            "metadata": {
                "collapsed": false
            }, 
            "outputs": [
                {
                    "ename": "ValueError", 
                    "evalue": "could not convert string to float: ChurchoftheLivingHopeReport", 
                    "traceback": [
                        "\u001b[1;31m\u001b[0m", 
                        "\u001b[1;31mValueError\u001b[0mTraceback (most recent call last)", 
                        "\u001b[1;32m<ipython-input-43-61e9a911c08a>\u001b[0m in \u001b[0;36m<module>\u001b[1;34m()\u001b[0m\n\u001b[0;32m      9\u001b[0m \u001b[1;32mfrom\u001b[0m \u001b[0msklearn\u001b[0m \u001b[1;32mimport\u001b[0m \u001b[0mpreprocessing\u001b[0m\u001b[1;33m\u001b[0m\u001b[0m\n\u001b[0;32m     10\u001b[0m \u001b[0mscaler\u001b[0m \u001b[1;33m=\u001b[0m \u001b[0mpreprocessing\u001b[0m\u001b[1;33m.\u001b[0m\u001b[0mMaxAbsScaler\u001b[0m\u001b[1;33m(\u001b[0m\u001b[1;33m)\u001b[0m\u001b[1;33m\u001b[0m\u001b[0m\n\u001b[1;32m---> 11\u001b[1;33m \u001b[0mfeat\u001b[0m \u001b[1;33m=\u001b[0m \u001b[0mscaler\u001b[0m\u001b[1;33m.\u001b[0m\u001b[0mfit_transform\u001b[0m\u001b[1;33m(\u001b[0m\u001b[0mfeat\u001b[0m\u001b[1;33m)\u001b[0m\u001b[1;33m\u001b[0m\u001b[0m\n\u001b[0m\u001b[0;32m     12\u001b[0m \u001b[1;31m# define a new dataframe with the scaled data\u001b[0m\u001b[1;33m\u001b[0m\u001b[1;33m\u001b[0m\u001b[0m\n\u001b[0;32m     13\u001b[0m \u001b[0mdfScaled\u001b[0m \u001b[1;33m=\u001b[0m \u001b[0mpd\u001b[0m\u001b[1;33m.\u001b[0m\u001b[0mDataFrame\u001b[0m\u001b[1;33m(\u001b[0m\u001b[0mfeat\u001b[0m\u001b[1;33m,\u001b[0m\u001b[0mcolumns\u001b[0m\u001b[1;33m=\u001b[0m\u001b[0mcols\u001b[0m\u001b[1;33m)\u001b[0m\u001b[1;33m\u001b[0m\u001b[0m\n", 
                        "\u001b[1;32m/usr/local/src/bluemix_jupyter_bundle.v34/notebook/lib/python2.7/site-packages/sklearn/base.pyc\u001b[0m in \u001b[0;36mfit_transform\u001b[1;34m(self, X, y, **fit_params)\u001b[0m\n\u001b[0;32m    453\u001b[0m         \u001b[1;32mif\u001b[0m \u001b[0my\u001b[0m \u001b[1;32mis\u001b[0m \u001b[0mNone\u001b[0m\u001b[1;33m:\u001b[0m\u001b[1;33m\u001b[0m\u001b[0m\n\u001b[0;32m    454\u001b[0m             \u001b[1;31m# fit method of arity 1 (unsupervised transformation)\u001b[0m\u001b[1;33m\u001b[0m\u001b[1;33m\u001b[0m\u001b[0m\n\u001b[1;32m--> 455\u001b[1;33m             \u001b[1;32mreturn\u001b[0m \u001b[0mself\u001b[0m\u001b[1;33m.\u001b[0m\u001b[0mfit\u001b[0m\u001b[1;33m(\u001b[0m\u001b[0mX\u001b[0m\u001b[1;33m,\u001b[0m \u001b[1;33m**\u001b[0m\u001b[0mfit_params\u001b[0m\u001b[1;33m)\u001b[0m\u001b[1;33m.\u001b[0m\u001b[0mtransform\u001b[0m\u001b[1;33m(\u001b[0m\u001b[0mX\u001b[0m\u001b[1;33m)\u001b[0m\u001b[1;33m\u001b[0m\u001b[0m\n\u001b[0m\u001b[0;32m    456\u001b[0m         \u001b[1;32melse\u001b[0m\u001b[1;33m:\u001b[0m\u001b[1;33m\u001b[0m\u001b[0m\n\u001b[0;32m    457\u001b[0m             \u001b[1;31m# fit method of arity 2 (supervised transformation)\u001b[0m\u001b[1;33m\u001b[0m\u001b[1;33m\u001b[0m\u001b[0m\n", 
                        "\u001b[1;32m/usr/local/src/bluemix_jupyter_bundle.v34/notebook/lib/python2.7/site-packages/sklearn/preprocessing/data.pyc\u001b[0m in \u001b[0;36mfit\u001b[1;34m(self, X, y)\u001b[0m\n\u001b[0;32m    756\u001b[0m         \u001b[1;31m# Reset internal state before fitting\u001b[0m\u001b[1;33m\u001b[0m\u001b[1;33m\u001b[0m\u001b[0m\n\u001b[0;32m    757\u001b[0m         \u001b[0mself\u001b[0m\u001b[1;33m.\u001b[0m\u001b[0m_reset\u001b[0m\u001b[1;33m(\u001b[0m\u001b[1;33m)\u001b[0m\u001b[1;33m\u001b[0m\u001b[0m\n\u001b[1;32m--> 758\u001b[1;33m         \u001b[1;32mreturn\u001b[0m \u001b[0mself\u001b[0m\u001b[1;33m.\u001b[0m\u001b[0mpartial_fit\u001b[0m\u001b[1;33m(\u001b[0m\u001b[0mX\u001b[0m\u001b[1;33m,\u001b[0m \u001b[0my\u001b[0m\u001b[1;33m)\u001b[0m\u001b[1;33m\u001b[0m\u001b[0m\n\u001b[0m\u001b[0;32m    759\u001b[0m \u001b[1;33m\u001b[0m\u001b[0m\n\u001b[0;32m    760\u001b[0m     \u001b[1;32mdef\u001b[0m \u001b[0mpartial_fit\u001b[0m\u001b[1;33m(\u001b[0m\u001b[0mself\u001b[0m\u001b[1;33m,\u001b[0m \u001b[0mX\u001b[0m\u001b[1;33m,\u001b[0m \u001b[0my\u001b[0m\u001b[1;33m=\u001b[0m\u001b[0mNone\u001b[0m\u001b[1;33m)\u001b[0m\u001b[1;33m:\u001b[0m\u001b[1;33m\u001b[0m\u001b[0m\n", 
                        "\u001b[1;32m/usr/local/src/bluemix_jupyter_bundle.v34/notebook/lib/python2.7/site-packages/sklearn/preprocessing/data.pyc\u001b[0m in \u001b[0;36mpartial_fit\u001b[1;34m(self, X, y)\u001b[0m\n\u001b[0;32m    773\u001b[0m         \"\"\"\n\u001b[0;32m    774\u001b[0m         X = check_array(X, accept_sparse=('csr', 'csc'), copy=self.copy,\n\u001b[1;32m--> 775\u001b[1;33m                         ensure_2d=False, estimator=self, dtype=FLOAT_DTYPES)\n\u001b[0m\u001b[0;32m    776\u001b[0m \u001b[1;33m\u001b[0m\u001b[0m\n\u001b[0;32m    777\u001b[0m         \u001b[1;32mif\u001b[0m \u001b[0mX\u001b[0m\u001b[1;33m.\u001b[0m\u001b[0mndim\u001b[0m \u001b[1;33m==\u001b[0m \u001b[1;36m1\u001b[0m\u001b[1;33m:\u001b[0m\u001b[1;33m\u001b[0m\u001b[0m\n", 
                        "\u001b[1;32m/usr/local/src/bluemix_jupyter_bundle.v34/notebook/lib/python2.7/site-packages/sklearn/utils/validation.pyc\u001b[0m in \u001b[0;36mcheck_array\u001b[1;34m(array, accept_sparse, dtype, order, copy, force_all_finite, ensure_2d, allow_nd, ensure_min_samples, ensure_min_features, warn_on_dtype, estimator)\u001b[0m\n\u001b[0;32m    371\u001b[0m                                       force_all_finite)\n\u001b[0;32m    372\u001b[0m     \u001b[1;32melse\u001b[0m\u001b[1;33m:\u001b[0m\u001b[1;33m\u001b[0m\u001b[0m\n\u001b[1;32m--> 373\u001b[1;33m         \u001b[0marray\u001b[0m \u001b[1;33m=\u001b[0m \u001b[0mnp\u001b[0m\u001b[1;33m.\u001b[0m\u001b[0marray\u001b[0m\u001b[1;33m(\u001b[0m\u001b[0marray\u001b[0m\u001b[1;33m,\u001b[0m \u001b[0mdtype\u001b[0m\u001b[1;33m=\u001b[0m\u001b[0mdtype\u001b[0m\u001b[1;33m,\u001b[0m \u001b[0morder\u001b[0m\u001b[1;33m=\u001b[0m\u001b[0morder\u001b[0m\u001b[1;33m,\u001b[0m \u001b[0mcopy\u001b[0m\u001b[1;33m=\u001b[0m\u001b[0mcopy\u001b[0m\u001b[1;33m)\u001b[0m\u001b[1;33m\u001b[0m\u001b[0m\n\u001b[0m\u001b[0;32m    374\u001b[0m \u001b[1;33m\u001b[0m\u001b[0m\n\u001b[0;32m    375\u001b[0m         \u001b[1;32mif\u001b[0m \u001b[0mensure_2d\u001b[0m\u001b[1;33m:\u001b[0m\u001b[1;33m\u001b[0m\u001b[0m\n", 
                        "\u001b[1;31mValueError\u001b[0m: could not convert string to float: ChurchoftheLivingHopeReport"
                    ], 
                    "output_type": "error"
                }
            ]
        }, 
        {
            "source": "## Explore the correlations", 
            "metadata": {}, 
            "cell_type": "markdown"
        }, 
        {
            "execution_count": null, 
            "source": "import matplotlib.pyplot as plt\n%matplotlib inline\nplt.style.use('ggplot')\nff = pd.tools.plotting.scatter_matrix(dfScaled, diagonal='hist',figsize=(10,10))", 
            "cell_type": "code", 
            "metadata": {
                "collapsed": false
            }, 
            "outputs": []
        }, 
        {
            "source": "## Linear regression model \n\nHypothesis: energy usage (kWh) can be explained with building characteristics: \n+ Age of the building \n+ Square feet \n+ Number of stories \n+ Total plugged equipment, ...", 
            "metadata": {}, 
            "cell_type": "markdown"
        }, 
        {
            "execution_count": null, 
            "source": "# get a list of the features used to explain energy\nfeatures = dfScaled.columns.tolist()\nresponse = ['energy']\nfeatures.remove(response[0])\n# import regression solver\nfrom sklearn import linear_model\n# declare a linear regression model \nlr = linear_model.LinearRegression(fit_intercept=True)\n# define response variable: energy usage\ny = np.asarray(dfScaled[response]) \n# define features\nX = dfScaled[features]\n# fit regression model to the data\nregr = lr.fit(X,y)\ncoefs = regr.coef_[0]\n# collect regression coefficients\ndataRegQ = []\ndataRegQ.append(('Intercept', regr.intercept_[0]))\nfor i in range(len(features)):\n    dataRegQ.append((features[i],coefs[i]))\n# compute energy predictions using our fitted model     \nyh = regr.predict(X)\n# import package to compute the R-squared quality metric\nfrom sklearn.metrics import r2_score\n# print results\nprint 'R-Squared: ', r2_score(y,yh)\npd.DataFrame(dataRegQ,columns=['feature_name','coefficient']) #.head()", 
            "cell_type": "code", 
            "metadata": {
                "collapsed": false
            }, 
            "outputs": []
        }, 
        {
            "source": "## Visualize the model accuracy\n+ The blue dots represent the observed energy versus the predicted energy by our trained model\n+ The black dotted line is at 45 degrees and represents the perfect model\n+ The closer the blue dots are to the black dotted line, the better the model fits the data", 
            "metadata": {}, 
            "cell_type": "markdown"
        }, 
        {
            "execution_count": null, 
            "source": "fig, ax = plt.subplots()\nax.scatter(y, yh)\nax.plot([y.min(), y.max()], [y.min(), y.max()], 'k--', lw=4)\nax.set_xlabel('Energy Observed',fontsize=20)\nax.set_ylabel('Energy Predicted',fontsize=20)\nax.axis([-0.1, 1.1, -0.1, 1.1])\nplt.gcf().set_size_inches( (6, 6) )\nplt.show()", 
            "cell_type": "code", 
            "metadata": {
                "collapsed": false
            }, 
            "outputs": []
        }, 
        {
            "source": "# 3. Detect buildings that consume energy inefficiently", 
            "metadata": {}, 
            "cell_type": "markdown"
        }, 
        {
            "source": "## Engineered characteristics of heating and cooling systems for the buildings", 
            "metadata": {}, 
            "cell_type": "markdown"
        }, 
        {
            "execution_count": 44, 
            "source": "dfCH = dfCH.toPandas()\n# get the numerical features\ndfR = dfCH[['plug_load_consumption','ac_consumption','domestic_gas','heating_gas']]\n# scale features with the max value of each column\ndfN = dfR/dfR.max()\n# concatenate scaled features and buildings name\ndfCH_n = pd.concat((dfN, dfCH['Property Name']),1)", 
            "cell_type": "code", 
            "metadata": {
                "collapsed": false
            }, 
            "outputs": []
        }, 
        {
            "source": "## Identify the buildings that consume energy inefficiently\n+ Air conditioner\n+ Plugged-in equipment (microwaves, computers, refrigerators, ...)\n+ Gas for domestic usage\n+ Gas for heating", 
            "metadata": {}, 
            "cell_type": "markdown"
        }, 
        {
            "source": "For example, the following buildings consume AC inefficiently:", 
            "metadata": {}, 
            "cell_type": "markdown"
        }, 
        {
            "execution_count": 45, 
            "source": "cname = 'ac_consumption' #'heating_gas'\ndfCH_n[dfCH_n[cname]>dfCH_n.quantile(0.95)[0]][['Property Name',cname]]", 
            "cell_type": "code", 
            "metadata": {
                "collapsed": false
            }, 
            "outputs": [
                {
                    "output_type": "execute_result", 
                    "execution_count": 45, 
                    "metadata": {}, 
                    "data": {
                        "text/plain": "                  Property Name  ac_consumption\n84                   CAAABagels        0.997882\n86           PaninicoCafeReport        1.000000\n87  Curran'sSuperiorMeatsReport        0.717030", 
                        "text/html": "<div>\n<table border=\"1\" class=\"dataframe\">\n  <thead>\n    <tr style=\"text-align: right;\">\n      <th></th>\n      <th>Property Name</th>\n      <th>ac_consumption</th>\n    </tr>\n  </thead>\n  <tbody>\n    <tr>\n      <th>84</th>\n      <td>CAAABagels</td>\n      <td>0.997882</td>\n    </tr>\n    <tr>\n      <th>86</th>\n      <td>PaninicoCafeReport</td>\n      <td>1.000000</td>\n    </tr>\n    <tr>\n      <th>87</th>\n      <td>Curran'sSuperiorMeatsReport</td>\n      <td>0.717030</td>\n    </tr>\n  </tbody>\n</table>\n</div>"
                    }
                }
            ]
        }, 
        {
            "source": "## Many dimensions are used to measure energy inefficiencies\nHere we are using four inefficiency metrics associated with: \n+ Plugged-in equipment\n+ Air conditioning\n+ Domestic gas \n+ Heating gas \n\n## Can we train a model to consider all of the dimesions to detect inefficient buildings?\n\nYes. K-means clustering helps us identify groups of buildings that consume energy inefficiently.", 
            "metadata": {}, 
            "cell_type": "markdown"
        }, 
        {
            "execution_count": 46, 
            "source": "# import K-means and PCA library\nfrom sklearn.cluster import KMeans\nfrom sklearn.decomposition import PCA\n# declare PCA model with 4 components\npca = PCA(n_components=2)\npca.fit(dfN)\nfeatReduced = pca.fit_transform(dfN)\n# declare a K-means model with 4 clusters \nkmeans = KMeans(n_clusters=4, tol=0.00001, random_state=1)\n# run K-means with our data\nkmeans.fit(featReduced)\n# get the label for each building using the K-means model\nlabels = kmeans.predict(featReduced)\nbuildings = np.asarray(dfCH['Property Name'].values.tolist())", 
            "cell_type": "code", 
            "metadata": {
                "collapsed": true
            }, 
            "outputs": []
        }, 
        {
            "source": "## Visualize clusters using two out of the four dimensions and the K-means labels to color observations", 
            "metadata": {}, 
            "cell_type": "markdown"
        }, 
        {
            "execution_count": 47, 
            "source": "# inefficiency dimensions: ['plug_load_consumption','ac_consumption','domestic_gas','heating_gas']\nx = dfCH_n['plug_load_consumption'] \ny = dfCH_n['heating_gas'] \nplt.scatter(x, y, s=225, c=labels, alpha=0.5)\nplt.gcf().set_size_inches( (7, 7) )\nplt.xlabel('Plugged Equipment Inefficiency',fontsize=15)\nplt.ylabel('Heating Gas Inefficiency',fontsize=15)\ntt = 'Buildings Colored by Cluster Labels' \nplt.title(tt,fontsize=15)\nplt.show()", 
            "cell_type": "code", 
            "metadata": {
                "collapsed": false
            }, 
            "outputs": [
                {
                    "metadata": {}, 
                    "output_type": "display_data", 
                    "data": {
                        "text/plain": "<matplotlib.figure.Figure at 0x7f856625ac10>", 
                        "image/png": "[encoded data removed]"
                    }
                }
            ]
        }, 
        {
            "source": "## The clustering model helps us identify inefficient groups of buildings \n\n+ Note that in the above figure, most buildings are part of the purple cluster.\n+ Buildings labeled with brown, yellow, and blue are more inefficient than the ones that are part of the purple cluster.\n+ Labels are re-coded into a binary variable where 1 is inefficient (brown, yellow or blue clusters) and 0 otherwise (purple cluster).", 
            "metadata": {}, 
            "cell_type": "markdown"
        }, 
        {
            "execution_count": 48, 
            "source": "# define binary variable to identify inefficient buildings\nlabel_binary = []\nfor v in labels:\n    label_binary.append(0 if (v == 0) else 1)\nlabel_binary = np.asarray(label_binary)", 
            "cell_type": "code", 
            "metadata": {
                "collapsed": true
            }, 
            "outputs": []
        }, 
        {
            "source": "## Classification model to identify the inefficient buildings", 
            "metadata": {}, 
            "cell_type": "markdown"
        }, 
        {
            "execution_count": 49, 
            "source": "# declare a logistic regression model \nlog = linear_model.LogisticRegression(tol = 0.00001, max_iter = 100)\n# fit model with our data\nlog.fit(featReduced, label_binary)\n# compute accuracy of the trained model\naccuracy = log.score(featReduced, label_binary)\n# compute predictions using trained model\ny_pred = log.predict(featReduced)\nprint \"Model Accuracy: \", accuracy", 
            "cell_type": "code", 
            "metadata": {
                "collapsed": false
            }, 
            "outputs": [
                {
                    "ename": "NameError", 
                    "evalue": "name 'linear_model' is not defined", 
                    "traceback": [
                        "\u001b[1;31m\u001b[0m", 
                        "\u001b[1;31mNameError\u001b[0mTraceback (most recent call last)", 
                        "\u001b[1;32m<ipython-input-49-7f4957537f42>\u001b[0m in \u001b[0;36m<module>\u001b[1;34m()\u001b[0m\n\u001b[0;32m      1\u001b[0m \u001b[1;31m# declare a logistic regression model\u001b[0m\u001b[1;33m\u001b[0m\u001b[1;33m\u001b[0m\u001b[0m\n\u001b[1;32m----> 2\u001b[1;33m \u001b[0mlog\u001b[0m \u001b[1;33m=\u001b[0m \u001b[0mlinear_model\u001b[0m\u001b[1;33m.\u001b[0m\u001b[0mLogisticRegression\u001b[0m\u001b[1;33m(\u001b[0m\u001b[0mtol\u001b[0m \u001b[1;33m=\u001b[0m \u001b[1;36m0.00001\u001b[0m\u001b[1;33m,\u001b[0m \u001b[0mmax_iter\u001b[0m \u001b[1;33m=\u001b[0m \u001b[1;36m100\u001b[0m\u001b[1;33m)\u001b[0m\u001b[1;33m\u001b[0m\u001b[0m\n\u001b[0m\u001b[0;32m      3\u001b[0m \u001b[1;31m# fit model with our data\u001b[0m\u001b[1;33m\u001b[0m\u001b[1;33m\u001b[0m\u001b[0m\n\u001b[0;32m      4\u001b[0m \u001b[0mlog\u001b[0m\u001b[1;33m.\u001b[0m\u001b[0mfit\u001b[0m\u001b[1;33m(\u001b[0m\u001b[0mfeatReduced\u001b[0m\u001b[1;33m,\u001b[0m \u001b[0mlabel_binary\u001b[0m\u001b[1;33m)\u001b[0m\u001b[1;33m\u001b[0m\u001b[0m\n\u001b[0;32m      5\u001b[0m \u001b[1;31m# compute accuracy of the trained model\u001b[0m\u001b[1;33m\u001b[0m\u001b[1;33m\u001b[0m\u001b[0m\n", 
                        "\u001b[1;31mNameError\u001b[0m: name 'linear_model' is not defined"
                    ], 
                    "output_type": "error"
                }
            ]
        }, 
        {
            "execution_count": 50, 
            "source": "def plot_confusion_matrix(cm, title='Confusion matrix', cmap=plt.cm.Blues):\n    plt.imshow(cm, interpolation='nearest', cmap=cmap)\n    plt.title(title)\n    plt.colorbar()\n    tick_marks = np.arange(2)\n    plt.xticks(tick_marks, ['efficient','inefficient'], rotation=0)\n    plt.yticks(tick_marks, ['efficient','inefficient'])\n    plt.tight_layout()\n    plt.ylabel('True label')\n    plt.xlabel('Predicted label')", 
            "cell_type": "code", 
            "metadata": {
                "collapsed": true
            }, 
            "outputs": []
        }, 
        {
            "source": "# Confusion matrices allow us to analyze the results of our classifier\n\n+ The 1st row of the confusion matrix, we notice that our model is very good to predict the efficient buildings\n+ The 2nd row tells us that our model is not very accurate to identify inefficient buildings (only 8 out of the 22 inefficient buildings were predicted correctly by our model)", 
            "metadata": {}, 
            "cell_type": "markdown"
        }, 
        {
            "execution_count": 51, 
            "source": "# import confusion matrix to explore model accuracy\nfrom sklearn.metrics import confusion_matrix\n# compute confusion matrix\ncm = confusion_matrix(label_binary, y_pred)\nnp.set_printoptions(precision=2)\nprint('Confusion matrix, without normalization')\nprint(cm)\nplt.figure()\nplot_confusion_matrix(cm)", 
            "cell_type": "code", 
            "metadata": {
                "collapsed": false
            }, 
            "outputs": [
                {
                    "ename": "NameError", 
                    "evalue": "name 'y_pred' is not defined", 
                    "traceback": [
                        "\u001b[1;31m\u001b[0m", 
                        "\u001b[1;31mNameError\u001b[0mTraceback (most recent call last)", 
                        "\u001b[1;32m<ipython-input-51-52ea3f52fb41>\u001b[0m in \u001b[0;36m<module>\u001b[1;34m()\u001b[0m\n\u001b[0;32m      2\u001b[0m \u001b[1;32mfrom\u001b[0m \u001b[0msklearn\u001b[0m\u001b[1;33m.\u001b[0m\u001b[0mmetrics\u001b[0m \u001b[1;32mimport\u001b[0m \u001b[0mconfusion_matrix\u001b[0m\u001b[1;33m\u001b[0m\u001b[0m\n\u001b[0;32m      3\u001b[0m \u001b[1;31m# compute confusion matrix\u001b[0m\u001b[1;33m\u001b[0m\u001b[1;33m\u001b[0m\u001b[0m\n\u001b[1;32m----> 4\u001b[1;33m \u001b[0mcm\u001b[0m \u001b[1;33m=\u001b[0m \u001b[0mconfusion_matrix\u001b[0m\u001b[1;33m(\u001b[0m\u001b[0mlabel_binary\u001b[0m\u001b[1;33m,\u001b[0m \u001b[0my_pred\u001b[0m\u001b[1;33m)\u001b[0m\u001b[1;33m\u001b[0m\u001b[0m\n\u001b[0m\u001b[0;32m      5\u001b[0m \u001b[0mnp\u001b[0m\u001b[1;33m.\u001b[0m\u001b[0mset_printoptions\u001b[0m\u001b[1;33m(\u001b[0m\u001b[0mprecision\u001b[0m\u001b[1;33m=\u001b[0m\u001b[1;36m2\u001b[0m\u001b[1;33m)\u001b[0m\u001b[1;33m\u001b[0m\u001b[0m\n\u001b[0;32m      6\u001b[0m \u001b[1;32mprint\u001b[0m\u001b[1;33m(\u001b[0m\u001b[1;34m'Confusion matrix, without normalization'\u001b[0m\u001b[1;33m)\u001b[0m\u001b[1;33m\u001b[0m\u001b[0m\n", 
                        "\u001b[1;31mNameError\u001b[0m: name 'y_pred' is not defined"
                    ], 
                    "output_type": "error"
                }
            ]
        }, 
        {
            "source": "# 4. Export data and models to RStudio\nWe built a \n_[Shiny app](https://ibmdatascience.shinyapps.io/SparkSummitDemo/)_ that summarizes our insights.\n\n### Add credentials for Object Storage container name\n\n1. Click inside the empty cell below to activate it\n2. On the right hand data panel, click \"Insert to code\" under any of the files shown and select \"Credentials\". \n<div><br><img src=\"https://raw.githubusercontent.com/IBMDataScience/SparkSummitDemo/master/Screenshots/Screen%20Shot%202016-12-22%20at%201.01.56%20PM.png\" width=200 /><br></div>\n3. **Now rename the variable that was inserted to be called `credentials`.** This will be referenced in the last code cell to put your data in the right Object Storage container.\n4. Run the code cells below to export to a file in your container called `export_data.csv`\n", 
            "metadata": {
                "collapsed": true
            }, 
            "cell_type": "markdown"
        }, 
        {
            "execution_count": 54, 
            "source": "# The code was removed by DSX for sharing.", 
            "cell_type": "code", 
            "metadata": {
                "collapsed": true
            }, 
            "outputs": []
        }, 
        {
            "execution_count": null, 
            "source": "", 
            "cell_type": "code", 
            "metadata": {
                "collapsed": false
            }, 
            "outputs": []
        }, 
        {
            "execution_count": null, 
            "source": "", 
            "cell_type": "code", 
            "metadata": {
                "collapsed": true
            }, 
            "outputs": []
        }, 
        {
            "execution_count": null, 
            "source": "", 
            "cell_type": "code", 
            "metadata": {
                "collapsed": true
            }, 
            "outputs": []
        }
    ]
}